{
 "cells": [
  {
   "cell_type": "markdown",
   "id": "b3922741",
   "metadata": {
    "papermill": {
     "duration": 0.006792,
     "end_time": "2025-04-24T02:48:54.575999",
     "exception": false,
     "start_time": "2025-04-24T02:48:54.569207",
     "status": "completed"
    },
    "tags": []
   },
   "source": [
    "# <span style=\"color:coral\"> <center> ConvNeXt with tensorflow</center> </span>"
   ]
  },
  {
   "cell_type": "markdown",
   "id": "915bce4c",
   "metadata": {
    "papermill": {
     "duration": 0.004979,
     "end_time": "2025-04-24T02:48:54.586332",
     "exception": false,
     "start_time": "2025-04-24T02:48:54.581353",
     "status": "completed"
    },
    "tags": []
   },
   "source": [
    "# <span >Notebook Overview</span>\n",
    "\n",
    "* In this notebook I have implemented `ConvNext tiny` model from the research paper titled as [A ConvNet for the 2020s](https://arxiv.org/abs/2201.03545) using tensorflow.\n",
    "\n",
    "* The code in this notebook is reusable and can be reused with any dataset of your choice.\n",
    "\n",
    "* In this notebook I will train `ConvNext tiny` model from scratch on CIFAR-10 dataset.\n"
   ]
  },
  {
   "cell_type": "code",
   "execution_count": 1,
   "id": "7a3293b7",
   "metadata": {
    "execution": {
     "iopub.execute_input": "2025-04-24T02:48:54.597837Z",
     "iopub.status.busy": "2025-04-24T02:48:54.597445Z",
     "iopub.status.idle": "2025-04-24T02:49:00.222893Z",
     "shell.execute_reply": "2025-04-24T02:49:00.221895Z"
    },
    "papermill": {
     "duration": 5.634121,
     "end_time": "2025-04-24T02:49:00.225414",
     "exception": false,
     "start_time": "2025-04-24T02:48:54.591293",
     "status": "completed"
    },
    "tags": []
   },
   "outputs": [],
   "source": [
    "from tensorflow.keras import layers\n",
    "from tensorflow import keras\n",
    "import tensorflow as tf\n",
    "import numpy as np\n",
    "import matplotlib.pyplot as plt\n",
    "import tensorflow_addons as tfa"
   ]
  },
  {
   "cell_type": "markdown",
   "id": "71c92577",
   "metadata": {
    "papermill": {
     "duration": 0.005644,
     "end_time": "2025-04-24T02:49:00.236955",
     "exception": false,
     "start_time": "2025-04-24T02:49:00.231311",
     "status": "completed"
    },
    "tags": []
   },
   "source": [
    "# <span style=\"color:coral\">Loading Cifar10 Data</span>"
   ]
  },
  {
   "cell_type": "code",
   "execution_count": 2,
   "id": "e618ccb7",
   "metadata": {
    "execution": {
     "iopub.execute_input": "2025-04-24T02:49:00.249534Z",
     "iopub.status.busy": "2025-04-24T02:49:00.248718Z",
     "iopub.status.idle": "2025-04-24T02:49:17.020430Z",
     "shell.execute_reply": "2025-04-24T02:49:17.019473Z"
    },
    "papermill": {
     "duration": 16.780618,
     "end_time": "2025-04-24T02:49:17.023072",
     "exception": false,
     "start_time": "2025-04-24T02:49:00.242454",
     "status": "completed"
    },
    "tags": []
   },
   "outputs": [
    {
     "name": "stdout",
     "output_type": "stream",
     "text": [
      "x_train shape: (192, 32, 32, 3), y_train shape: (192,)\n",
      "x_test shape: (48, 32, 32, 3), y_test shape: (48,)\n"
     ]
    }
   ],
   "source": [
    "import os\n",
    "import numpy as np\n",
    "from PIL import Image\n",
    "from sklearn.preprocessing import LabelEncoder\n",
    "\n",
    "# Path to the dataset\n",
    "data_path = \"/kaggle/input/leaf-rice-disease-indonesia\"\n",
    "\n",
    "def load_image_dataset(dataset_path):\n",
    "    images = []\n",
    "    labels = []\n",
    "    \n",
    "    # Assuming the subdirectories are named by class\n",
    "    for class_name in os.listdir(dataset_path):\n",
    "        class_path = os.path.join(dataset_path, class_name)\n",
    "        if os.path.isdir(class_path):\n",
    "            for img_file in os.listdir(class_path):\n",
    "                img_path = os.path.join(class_path, img_file)\n",
    "                try:\n",
    "                    # Open and resize image to consistent size (e.g., 32x32 like CIFAR-10)\n",
    "                    img = Image.open(img_path)\n",
    "                    img = img.resize((32, 32))  # Resize if needed\n",
    "                    img_array = np.array(img)\n",
    "                    \n",
    "                    # Ensure 3 channels (convert grayscale to RGB if needed)\n",
    "                    if len(img_array.shape) == 2:\n",
    "                        img_array = np.stack((img_array,)*3, axis=-1)\n",
    "                    elif img_array.shape[2] == 4:\n",
    "                        img_array = img_array[:, :, :3]  # Remove alpha channel\n",
    "                        \n",
    "                    images.append(img_array)\n",
    "                    labels.append(class_name)\n",
    "                except Exception as e:\n",
    "                    print(f\"Error loading {img_path}: {e}\")\n",
    "    \n",
    "    # Convert to numpy arrays\n",
    "    images = np.array(images)\n",
    "    labels = np.array(labels)\n",
    "    \n",
    "    # Encode string labels to numerical values\n",
    "    le = LabelEncoder()\n",
    "    labels = le.fit_transform(labels)\n",
    "    \n",
    "    return images, labels\n",
    "\n",
    "# Load training data\n",
    "x_train, y_train = load_image_dataset(data_path)\n",
    "\n",
    "# For test data, you might need to point to a separate test directory\n",
    "# x_test, y_test = load_image_dataset(\"/path/to/test/data\")\n",
    "\n",
    "# If you don't have separate test data, you should split the training data\n",
    "from sklearn.model_selection import train_test_split\n",
    "x_train, x_test, y_train, y_test = train_test_split(x_train, y_train, test_size=0.2, random_state=42)\n",
    "\n",
    "# Normalize images\n",
    "x_train = x_train / 255.0\n",
    "x_test = x_test / 255.0\n",
    "\n",
    "print(f\"x_train shape: {x_train.shape}, y_train shape: {y_train.shape}\")\n",
    "print(f\"x_test shape: {x_test.shape}, y_test shape: {y_test.shape}\")\n"
   ]
  },
  {
   "cell_type": "markdown",
   "id": "495620a3",
   "metadata": {
    "papermill": {
     "duration": 0.005913,
     "end_time": "2025-04-24T02:49:17.035432",
     "exception": false,
     "start_time": "2025-04-24T02:49:17.029519",
     "status": "completed"
    },
    "tags": []
   },
   "source": [
    "I will be using `tf.data` api which helps to build flexible and efficient input pipeline.\n",
    "​\n",
    "td.data allows us to do various tasks in memory efficient way such as :\n",
    "​\n",
    "* `map()` - maps a predefined function to dataset\n",
    "* `shuffle()` - randomly shuffles the elements of a target \n",
    "* `batch()` - turns dataset into batches \n",
    "* `prefetch()` - prepares subsequent batches of data while other batches of data are being computed"
   ]
  },
  {
   "cell_type": "code",
   "execution_count": 3,
   "id": "4f5ee618",
   "metadata": {
    "_kg_hide-output": true,
    "execution": {
     "iopub.execute_input": "2025-04-24T02:49:17.047689Z",
     "iopub.status.busy": "2025-04-24T02:49:17.047362Z",
     "iopub.status.idle": "2025-04-24T02:49:20.041608Z",
     "shell.execute_reply": "2025-04-24T02:49:20.040592Z"
    },
    "papermill": {
     "duration": 3.003132,
     "end_time": "2025-04-24T02:49:20.043956",
     "exception": false,
     "start_time": "2025-04-24T02:49:17.040824",
     "status": "completed"
    },
    "tags": []
   },
   "outputs": [],
   "source": [
    "AUTO = tf.data.AUTOTUNE\n",
    "BATCH_SIZE=128\n",
    "# convert images to float32 format and convert labels to int32\n",
    "def preprocess (image, label):\n",
    "    image = tf.image.convert_image_dtype(image, tf.float32)\n",
    "    label = tf.cast(label, tf.int32)\n",
    "    return image, label\n",
    "\n",
    "#Peform augmentations on training data\n",
    "def augmentation(image,label):\n",
    "    image = tf.image.resize_with_crop_or_pad(image, 40, 40) # Add 8 pixels of padding\n",
    "    image = tf.image.random_crop(image, size=[32, 32, 3]) # Random crop back to 32x32\n",
    "    image = tf.image.random_brightness(image, max_delta=0.5) # Random brightness\n",
    "    image = tf.clip_by_value(image, 0., 1.)\n",
    "    return image, label\n",
    "\n",
    "\n",
    "train_data = tf.data.Dataset.from_tensor_slices((x_train, y_train))\n",
    "#applying transformations \n",
    "train_data = train_data.shuffle(1024) # shuffle the images\n",
    "train_data = train_data.map(preprocess, num_parallel_calls=AUTO)# mapping our preprocess function to train_data \n",
    "train_data = train_data.map(augmentation, num_parallel_calls=AUTO)# mapping our augmentation funtion to train_data\n",
    "train_data = train_data.batch(BATCH_SIZE) #Converting train_data to batches\n",
    "train_data = train_data.prefetch(AUTO) # using prefetch which prepares subsequent batches of data while other batches are being computed.\n",
    "\n",
    "# train_data = train_data.map(lambda x, y: (tf.image.rgb_to_grayscale(x), y))\n",
    "\n",
    "\n",
    "test_data = tf.data.Dataset.from_tensor_slices((x_test, y_test))\n",
    "#applying transformations \n",
    "test_data = test_data.map(preprocess, num_parallel_calls=AUTO) # mapping our preprocess function test_data \n",
    "test_data = test_data.batch(BATCH_SIZE)\n",
    "test_data = test_data.prefetch(AUTO) # using prefetch which prepares subsequent batches of data while other batches are being computed."
   ]
  },
  {
   "attachments": {
    "efe6f562-13b4-4b71-b7a1-190876518b81.jpg": {
     "image/jpeg": "[encoded data removed]"
    }
   },
   "cell_type": "markdown",
   "id": "e1d4e919",
   "metadata": {
    "papermill": {
     "duration": 0.005021,
     "end_time": "2025-04-24T02:49:20.054788",
     "exception": false,
     "start_time": "2025-04-24T02:49:20.049767",
     "status": "completed"
    },
    "tags": []
   },
   "source": [
    "# <center>ConvNeXt Block</center>\n",
    "\n",
    "For implementing `ConvNeXt` block authors take inspiration from the `ResNext` architecture which use [grouped convolutions](https://paperswithcode.com/method/grouped-convolution#:~:text=A%20Grouped%20Convolution%20uses%20a,level%20and%20high%20level%20features.), for `ConvNeXt` block authors utlize the combination of [depthwise convolutions](https://paperswithcode.com/method/depthwise-convolution) and 1x1 [point-wise convolutions](https://paperswithcode.com/method/pointwise-convolution). Depthwise convolutions reduce the number of parameters and computation used in convolutional operations while increasing representational efficiency. Pointwise convolutions is a 1x1 convolution which projects the channels output by the depthwise convolution onto a new channel space\n",
    " \n",
    "In this paper authors use a slightly modified [inverted bottle-neck](https://paperswithcode.com/method/inverted-residual-block) design given by:\n",
    "\n",
    "1. A depthwise convolution, authors found out that `7x7 size` depthwise convolution gives better performance than that of other sizes. followed by a layer norm normalization layer as used in transformer architectures.\n",
    "\n",
    "2. `Layer normalization` is used after the depthwise convolution instead of the Batch Normalization. As opposed to ResNet Block architecture ConvNeXt block only uses `layer norm` once in a residual block. \n",
    "\n",
    "> `Note:` In batchnorm, the mean and variance used for normalization are calculated across all elements in a batch, for each feature independently while in layernorm, they are calculated across the feature dimension, for each element and instance independently. \n",
    "\n",
    "3. A 1x1 `pointwise convolution` is used after LN.\n",
    "\n",
    "4. A [GELU](https://paperswithcode.com/method/gelu) activation function is used after 1x1 pointwise convolutional layer. As opposed to multiple ReLU activations in ResNet residual block, ConvNext uses GELU activation function only once in a residual block.\n",
    "\n",
    "5. Another 1x1 `pointwise convolution` is used.\n",
    "\n",
    "![con.jpg](attachment:efe6f562-13b4-4b71-b7a1-190876518b81.jpg)\n",
    "\n",
    "> Image source [A ConvNet for the 2020s](https://arxiv.org/abs/2201.03545) "
   ]
  },
  {
   "cell_type": "code",
   "execution_count": 4,
   "id": "55793eb5",
   "metadata": {
    "execution": {
     "iopub.execute_input": "2025-04-24T02:49:20.066625Z",
     "iopub.status.busy": "2025-04-24T02:49:20.066266Z",
     "iopub.status.idle": "2025-04-24T02:49:20.074465Z",
     "shell.execute_reply": "2025-04-24T02:49:20.073717Z"
    },
    "papermill": {
     "duration": 0.016215,
     "end_time": "2025-04-24T02:49:20.076181",
     "exception": false,
     "start_time": "2025-04-24T02:49:20.059966",
     "status": "completed"
    },
    "tags": []
   },
   "outputs": [],
   "source": [
    "class ConvNext_Block(tf.keras.Model):\n",
    "    \n",
    "    \"\"\"\n",
    "    Implementing the ConvNeXt block for \n",
    "    \n",
    "    Args:\n",
    "        dim: No of input channels\n",
    "        drop_path: stotchastic depth rate \n",
    "        layer_scale_init_value=1e-6\n",
    "    \n",
    "    Returns:\n",
    "        A conv block\n",
    "    \"\"\"\n",
    "    \n",
    "    def __init__(self, dim, drop_path=0.0, layer_scale_init_value=1e-6, **kwargs):\n",
    "        super(ConvNext_Block, self).__init__(**kwargs)\n",
    "        \n",
    "        self.depthwise_convolution = layers.Conv2D(dim, kernel_size=7, padding=\"same\", groups=dim )\n",
    "        self.layer_normalization = layers.LayerNormalization(epsilon=1e-6)\n",
    "        self.pointwise_convolution_1 = layers.Dense(4 * dim)\n",
    "        self.GELU = layers.Activation(\"gelu\")\n",
    "        self.pointwise_convolution_2 = layers.Dense(dim)\n",
    "        self.gamma = tf.Variable(layer_scale_init_value * tf.ones((dim,)))\n",
    "        if drop_path>0.0:\n",
    "            self.drop_path=(tfa.layers.StochasticDepth(drop_path))\n",
    "        else:\n",
    "            self.drop_path=layers.Activation(\"linear\")\n",
    "        \n",
    "\n",
    "    def call(self, inputs):\n",
    "        x = inputs\n",
    "        x = self.depthwise_convolution(x)\n",
    "        x = self.layer_normalization(x)\n",
    "        x = self.pointwise_convolution_1(x)\n",
    "        x = self.GELU(x)\n",
    "        x = self.pointwise_convolution_2(x)\n",
    "        x = self.gamma * x\n",
    "\n",
    "        return inputs + self.drop_path(x)\n"
   ]
  },
  {
   "cell_type": "markdown",
   "id": "bb93fce6",
   "metadata": {
    "papermill": {
     "duration": 0.004934,
     "end_time": "2025-04-24T02:49:20.086220",
     "exception": false,
     "start_time": "2025-04-24T02:49:20.081286",
     "status": "completed"
    },
    "tags": []
   },
   "source": [
    "# Patchify Stem \n",
    "\n",
    "For processing the input images, ConvNeXt utilizes patchify strategy of transformers by 4x4 convolutional layer with stride of 4 i.e it will have non overlapping patches."
   ]
  },
  {
   "cell_type": "code",
   "execution_count": 5,
   "id": "5370cd14",
   "metadata": {
    "execution": {
     "iopub.execute_input": "2025-04-24T02:49:20.098176Z",
     "iopub.status.busy": "2025-04-24T02:49:20.097541Z",
     "iopub.status.idle": "2025-04-24T02:49:20.101999Z",
     "shell.execute_reply": "2025-04-24T02:49:20.101296Z"
    },
    "papermill": {
     "duration": 0.012449,
     "end_time": "2025-04-24T02:49:20.103817",
     "exception": false,
     "start_time": "2025-04-24T02:49:20.091368",
     "status": "completed"
    },
    "tags": []
   },
   "outputs": [],
   "source": [
    "def patchify_stem(dims):\n",
    "    \"\"\"\n",
    "    Implements the stem block of ConvNeXt\n",
    "    \n",
    "    Args:\n",
    "        Dims: List of feature dimensions at each stage.\n",
    "    \n",
    "    Returns:\n",
    "        feature maps after patchify operation\n",
    "    \"\"\"\n",
    "    stem = keras.Sequential(\n",
    "        [layers.Conv2D(dims[0], kernel_size=4, strides=4),\n",
    "        layers.LayerNormalization(epsilon=1e-6)],\n",
    "        )\n",
    "    return stem"
   ]
  },
  {
   "cell_type": "markdown",
   "id": "e0573318",
   "metadata": {
    "papermill": {
     "duration": 0.005002,
     "end_time": "2025-04-24T02:49:20.114958",
     "exception": false,
     "start_time": "2025-04-24T02:49:20.109956",
     "status": "completed"
    },
    "tags": []
   },
   "source": [
    "# Spatial Downsampling\n",
    "\n",
    "Similar to Resnets and Swin Transformer, ConvNext perform spatial downsampling with `2x2` conv layer having `stride` of **2**. Authors of the paper observed that adding Layer Normalization layer gives significantly good performance.\n",
    "\n"
   ]
  },
  {
   "cell_type": "code",
   "execution_count": 6,
   "id": "243c167d",
   "metadata": {
    "execution": {
     "iopub.execute_input": "2025-04-24T02:49:20.126912Z",
     "iopub.status.busy": "2025-04-24T02:49:20.126299Z",
     "iopub.status.idle": "2025-04-24T02:49:20.131508Z",
     "shell.execute_reply": "2025-04-24T02:49:20.130698Z"
    },
    "papermill": {
     "duration": 0.013039,
     "end_time": "2025-04-24T02:49:20.133205",
     "exception": false,
     "start_time": "2025-04-24T02:49:20.120166",
     "status": "completed"
    },
    "tags": []
   },
   "outputs": [],
   "source": [
    "def spatial_downsampling(stem,dims,kernel_size,stride):\n",
    "    \"\"\"\n",
    "    Implements Spatial Downsampling of ConvNeXt\n",
    "    \n",
    "    Args:\n",
    "        Dims: List of feature dimensions at each stage.\n",
    "        stem: Patchify stem output of images\n",
    "        kernel_size: Downsampling kernel_size\n",
    "        stride: Downsampling stride length\n",
    "    Returns:\n",
    "        Downsampled layers\n",
    "    \"\"\"\n",
    "\n",
    "    ds_layers = []\n",
    "    ds_layers.append(stem)\n",
    "    for dim in dims[1:]:\n",
    "        layer = keras.Sequential(\n",
    "            [layers.LayerNormalization(epsilon=1e-6),\n",
    "            layers.Conv2D(dim, kernel_size=kernel_size, strides=stride),\n",
    "            ]\n",
    "        )\n",
    "        ds_layers.append(layer)\n",
    "        \n",
    "    return ds_layers"
   ]
  },
  {
   "cell_type": "markdown",
   "id": "d6d40466",
   "metadata": {
    "papermill": {
     "duration": 0.005036,
     "end_time": "2025-04-24T02:49:20.143434",
     "exception": false,
     "start_time": "2025-04-24T02:49:20.138398",
     "status": "completed"
    },
    "tags": []
   },
   "source": [
    "# Convnext Stages\n",
    "We will iteratively build the stages of ConvNeXt block by calling the ConvNext_Block function created earlier over the feature dimensions at each stage."
   ]
  },
  {
   "cell_type": "code",
   "execution_count": 7,
   "id": "82a82be9",
   "metadata": {
    "execution": {
     "iopub.execute_input": "2025-04-24T02:49:20.155191Z",
     "iopub.status.busy": "2025-04-24T02:49:20.154565Z",
     "iopub.status.idle": "2025-04-24T02:49:20.160391Z",
     "shell.execute_reply": "2025-04-24T02:49:20.159553Z"
    },
    "papermill": {
     "duration": 0.013711,
     "end_time": "2025-04-24T02:49:20.162186",
     "exception": false,
     "start_time": "2025-04-24T02:49:20.148475",
     "status": "completed"
    },
    "tags": []
   },
   "outputs": [],
   "source": [
    "def ConvNext_Stages (dims,drop_path_rate,depths,layer_scale_init_value):\n",
    "    \"\"\"\n",
    "    Creating stages each consiting of multiple residual blocks\n",
    "    \n",
    "    Args:\n",
    "        dims: List of feature dimensions at each stage.\n",
    "        drop_path_rate: Stochastic depth rate\n",
    "        depths: Number of blocks at each stage\n",
    "        layer_scale_init_value: Init value for Layer Scale\n",
    "        \n",
    "    \"\"\"\n",
    "    stages = []\n",
    "    dropout_rates = [x for x in tf.linspace(0.0, drop_path_rate, sum(depths))]\n",
    "    cur = 0\n",
    "    for i in range(len(dims)):\n",
    "        stage = keras.Sequential(\n",
    "            [*[ConvNext_Block(dim=dims[i],drop_path=dropout_rates[cur + j],layer_scale_init_value=layer_scale_init_value) for j in range(depths[i])]\n",
    "            ]\n",
    "        )\n",
    "        stages.append(stage)\n",
    "        cur += depths[i]\n",
    "    return stages"
   ]
  },
  {
   "cell_type": "markdown",
   "id": "f74275d8",
   "metadata": {
    "papermill": {
     "duration": 0.00503,
     "end_time": "2025-04-24T02:49:20.172548",
     "exception": false,
     "start_time": "2025-04-24T02:49:20.167518",
     "status": "completed"
    },
    "tags": []
   },
   "source": [
    "# Final ConvNeXt Model\n",
    "\n",
    "In this implementaion I will be implementing the ConvNeXt-T having dimensions = (96, 192, 384, 768) and depths = (3, 3, 9, 3)"
   ]
  },
  {
   "cell_type": "code",
   "execution_count": 8,
   "id": "fc309f12",
   "metadata": {
    "execution": {
     "iopub.execute_input": "2025-04-24T02:49:20.184594Z",
     "iopub.status.busy": "2025-04-24T02:49:20.183928Z",
     "iopub.status.idle": "2025-04-24T02:49:20.188128Z",
     "shell.execute_reply": "2025-04-24T02:49:20.187300Z"
    },
    "papermill": {
     "duration": 0.012123,
     "end_time": "2025-04-24T02:49:20.189911",
     "exception": false,
     "start_time": "2025-04-24T02:49:20.177788",
     "status": "completed"
    },
    "tags": []
   },
   "outputs": [],
   "source": [
    "drop_path_rate=0.0\n",
    "layer_scale_init_value=1e-6\n",
    "dims=[1, 1, 1, 1]\n",
    "depths=[3, 3, 9, 3]"
   ]
  },
  {
   "cell_type": "code",
   "execution_count": 9,
   "id": "dd5b58da",
   "metadata": {
    "execution": {
     "iopub.execute_input": "2025-04-24T02:49:20.201452Z",
     "iopub.status.busy": "2025-04-24T02:49:20.200949Z",
     "iopub.status.idle": "2025-04-24T02:49:22.038415Z",
     "shell.execute_reply": "2025-04-24T02:49:22.037421Z"
    },
    "papermill": {
     "duration": 1.845742,
     "end_time": "2025-04-24T02:49:22.040711",
     "exception": false,
     "start_time": "2025-04-24T02:49:20.194969",
     "status": "completed"
    },
    "tags": []
   },
   "outputs": [],
   "source": [
    "inputs = layers.Input((32,32,3))\n",
    "x = inputs\n",
    "\n",
    "stem=patchify_stem(dims)\n",
    "\n",
    "downsampling=spatial_downsampling(stem,dims,kernel_size=2,stride=2)\n",
    "\n",
    "stages=ConvNext_Stages(dims,drop_path_rate,depths,layer_scale_init_value)\n",
    "\n",
    "for i in range(len(stages)):\n",
    "    x = downsampling[i](x)\n",
    "    x = stages[i](x)\n",
    "\n",
    "x = layers.GlobalAvgPool2D()(x)\n",
    "x = layers.LayerNormalization(epsilon=1e-6)(x)\n",
    "\n",
    "outputs = layers.Dense(10)(x)\n",
    "\n",
    "ConvNeXt_model=keras.Model(inputs, outputs)"
   ]
  },
  {
   "cell_type": "code",
   "execution_count": 10,
   "id": "cb30a419",
   "metadata": {
    "_kg_hide-input": true,
    "execution": {
     "iopub.execute_input": "2025-04-24T02:49:22.055417Z",
     "iopub.status.busy": "2025-04-24T02:49:22.055036Z",
     "iopub.status.idle": "2025-04-24T02:49:22.067873Z",
     "shell.execute_reply": "2025-04-24T02:49:22.066797Z"
    },
    "papermill": {
     "duration": 0.02252,
     "end_time": "2025-04-24T02:49:22.069833",
     "exception": false,
     "start_time": "2025-04-24T02:49:22.047313",
     "status": "completed"
    },
    "tags": []
   },
   "outputs": [
    {
     "name": "stdout",
     "output_type": "stream",
     "text": [
      "Model: \"model\"\n",
      "_________________________________________________________________\n",
      "Layer (type)                 Output Shape              Param #   \n",
      "=================================================================\n",
      "input_1 (InputLayer)         [(None, 32, 32, 3)]       0         \n",
      "_________________________________________________________________\n",
      "sequential (Sequential)      (None, 8, 8, 1)           51        \n",
      "_________________________________________________________________\n",
      "sequential_4 (Sequential)    (None, 8, 8, 1)           198       \n",
      "_________________________________________________________________\n",
      "sequential_1 (Sequential)    (None, 4, 4, 1)           7         \n",
      "_________________________________________________________________\n",
      "sequential_5 (Sequential)    (None, 4, 4, 1)           198       \n",
      "_________________________________________________________________\n",
      "sequential_2 (Sequential)    (None, 2, 2, 1)           7         \n",
      "_________________________________________________________________\n",
      "sequential_6 (Sequential)    (None, 2, 2, 1)           594       \n",
      "_________________________________________________________________\n",
      "sequential_3 (Sequential)    (None, 1, 1, 1)           7         \n",
      "_________________________________________________________________\n",
      "sequential_7 (Sequential)    (None, 1, 1, 1)           198       \n",
      "_________________________________________________________________\n",
      "global_average_pooling2d (Gl (None, 1)                 0         \n",
      "_________________________________________________________________\n",
      "layer_normalization_22 (Laye (None, 1)                 2         \n",
      "_________________________________________________________________\n",
      "dense_36 (Dense)             (None, 10)                20        \n",
      "=================================================================\n",
      "Total params: 1,282\n",
      "Trainable params: 1,282\n",
      "Non-trainable params: 0\n",
      "_________________________________________________________________\n"
     ]
    }
   ],
   "source": [
    "ConvNeXt_model.summary()"
   ]
  },
  {
   "cell_type": "code",
   "execution_count": 11,
   "id": "0d552e63",
   "metadata": {
    "execution": {
     "iopub.execute_input": "2025-04-24T02:49:22.082305Z",
     "iopub.status.busy": "2025-04-24T02:49:22.081586Z",
     "iopub.status.idle": "2025-04-24T02:49:47.621643Z",
     "shell.execute_reply": "2025-04-24T02:49:47.620894Z"
    },
    "papermill": {
     "duration": 25.548642,
     "end_time": "2025-04-24T02:49:47.623961",
     "exception": false,
     "start_time": "2025-04-24T02:49:22.075319",
     "status": "completed"
    },
    "tags": []
   },
   "outputs": [
    {
     "name": "stdout",
     "output_type": "stream",
     "text": [
      "Epoch 1/25\n",
      "2/2 [==============================] - 21s 2s/step - loss: 2.3021 - accuracy: 0.2917 - val_loss: 2.2997 - val_accuracy: 0.3333\n",
      "Epoch 2/25\n",
      "2/2 [==============================] - 0s 97ms/step - loss: 2.2992 - accuracy: 0.3333 - val_loss: 2.2969 - val_accuracy: 0.3333\n",
      "Epoch 3/25\n",
      "2/2 [==============================] - 0s 80ms/step - loss: 2.2963 - accuracy: 0.3333 - val_loss: 2.2941 - val_accuracy: 0.3333\n",
      "Epoch 4/25\n",
      "2/2 [==============================] - 0s 80ms/step - loss: 2.2934 - accuracy: 0.3333 - val_loss: 2.2912 - val_accuracy: 0.3333\n",
      "Epoch 5/25\n",
      "2/2 [==============================] - 0s 80ms/step - loss: 2.2906 - accuracy: 0.3333 - val_loss: 2.2883 - val_accuracy: 0.3333\n",
      "Epoch 6/25\n",
      "2/2 [==============================] - 0s 79ms/step - loss: 2.2876 - accuracy: 0.3333 - val_loss: 2.2855 - val_accuracy: 0.3333\n",
      "Epoch 7/25\n",
      "2/2 [==============================] - 0s 80ms/step - loss: 2.2847 - accuracy: 0.3333 - val_loss: 2.2826 - val_accuracy: 0.3333\n",
      "Epoch 8/25\n",
      "2/2 [==============================] - 0s 82ms/step - loss: 2.2818 - accuracy: 0.3333 - val_loss: 2.2797 - val_accuracy: 0.3333\n",
      "Epoch 9/25\n",
      "2/2 [==============================] - 0s 81ms/step - loss: 2.2789 - accuracy: 0.3333 - val_loss: 2.2768 - val_accuracy: 0.3333\n",
      "Epoch 10/25\n",
      "2/2 [==============================] - 0s 82ms/step - loss: 2.2760 - accuracy: 0.3333 - val_loss: 2.2739 - val_accuracy: 0.3333\n",
      "Epoch 11/25\n",
      "2/2 [==============================] - 0s 83ms/step - loss: 2.2730 - accuracy: 0.3333 - val_loss: 2.2710 - val_accuracy: 0.3333\n",
      "Epoch 12/25\n",
      "2/2 [==============================] - 0s 80ms/step - loss: 2.2701 - accuracy: 0.3333 - val_loss: 2.2681 - val_accuracy: 0.3333\n",
      "Epoch 13/25\n",
      "2/2 [==============================] - 0s 81ms/step - loss: 2.2672 - accuracy: 0.3333 - val_loss: 2.2652 - val_accuracy: 0.3333\n",
      "Epoch 14/25\n",
      "2/2 [==============================] - 0s 85ms/step - loss: 2.2642 - accuracy: 0.3333 - val_loss: 2.2623 - val_accuracy: 0.3333\n",
      "Epoch 15/25\n",
      "2/2 [==============================] - 0s 80ms/step - loss: 2.2613 - accuracy: 0.3333 - val_loss: 2.2594 - val_accuracy: 0.3333\n",
      "Epoch 16/25\n",
      "2/2 [==============================] - 0s 81ms/step - loss: 2.2583 - accuracy: 0.3333 - val_loss: 2.2564 - val_accuracy: 0.3333\n",
      "Epoch 17/25\n",
      "2/2 [==============================] - 0s 81ms/step - loss: 2.2553 - accuracy: 0.3333 - val_loss: 2.2535 - val_accuracy: 0.3333\n",
      "Epoch 18/25\n",
      "2/2 [==============================] - 0s 80ms/step - loss: 2.2523 - accuracy: 0.3333 - val_loss: 2.2505 - val_accuracy: 0.3333\n",
      "Epoch 19/25\n",
      "2/2 [==============================] - 0s 83ms/step - loss: 2.2492 - accuracy: 0.3333 - val_loss: 2.2475 - val_accuracy: 0.3333\n",
      "Epoch 20/25\n",
      "2/2 [==============================] - 0s 82ms/step - loss: 2.2463 - accuracy: 0.3333 - val_loss: 2.2445 - val_accuracy: 0.3333\n",
      "Epoch 21/25\n",
      "2/2 [==============================] - 0s 81ms/step - loss: 2.2432 - accuracy: 0.3333 - val_loss: 2.2415 - val_accuracy: 0.3333\n",
      "Epoch 22/25\n",
      "2/2 [==============================] - 0s 81ms/step - loss: 2.2401 - accuracy: 0.3333 - val_loss: 2.2385 - val_accuracy: 0.3333\n",
      "Epoch 23/25\n",
      "2/2 [==============================] - 0s 80ms/step - loss: 2.2371 - accuracy: 0.3333 - val_loss: 2.2355 - val_accuracy: 0.3333\n",
      "Epoch 24/25\n",
      "2/2 [==============================] - 0s 80ms/step - loss: 2.2340 - accuracy: 0.3333 - val_loss: 2.2325 - val_accuracy: 0.3333\n",
      "Epoch 25/25\n",
      "2/2 [==============================] - 0s 78ms/step - loss: 2.2310 - accuracy: 0.3333 - val_loss: 2.2294 - val_accuracy: 0.3333\n"
     ]
    }
   ],
   "source": [
    "ConvNeXt_model.compile(\n",
    "    optimizer=tfa.optimizers.AdamW(learning_rate=0.001,weight_decay=0.0001),\n",
    "    loss=tf.keras.losses.SparseCategoricalCrossentropy(from_logits=True),\n",
    "                metrics=['accuracy'])\n",
    "\n",
    "history=ConvNeXt_model.fit(train_data,\n",
    "          batch_size=64,\n",
    "          epochs=25,\n",
    "          validation_data=test_data)"
   ]
  },
  {
   "cell_type": "code",
   "execution_count": 12,
   "id": "6812391e",
   "metadata": {
    "_kg_hide-input": true,
    "execution": {
     "iopub.execute_input": "2025-04-24T02:49:47.642705Z",
     "iopub.status.busy": "2025-04-24T02:49:47.642096Z",
     "iopub.status.idle": "2025-04-24T02:49:47.900177Z",
     "shell.execute_reply": "2025-04-24T02:49:47.899206Z"
    },
    "papermill": {
     "duration": 0.26947,
     "end_time": "2025-04-24T02:49:47.902293",
     "exception": false,
     "start_time": "2025-04-24T02:49:47.632823",
     "status": "completed"
    },
    "tags": []
   },
   "outputs": [
    {
     "data": {
      "image/png": "[encoded data removed]",
      "text/plain": [
       "<Figure size 1440x360 with 2 Axes>"
      ]
     },
     "metadata": {
      "needs_background": "light"
     },
     "output_type": "display_data"
    }
   ],
   "source": [
    "# Plotting loss and accuracy curves\n",
    "plt.figure(figsize=(20,5))\n",
    "plt.subplot(1,2,1)\n",
    "plt.plot(history.history['accuracy'])\n",
    "plt.plot(history.history['val_accuracy'])\n",
    "plt.title('model accuracy')\n",
    "plt.ylabel('accuracy')\n",
    "plt.xlabel('epoch')\n",
    "plt.legend(['train', 'test'], loc='upper left')\n",
    "\n",
    "plt.subplot(1,2,2)\n",
    "plt.plot(history.history['loss'])\n",
    "plt.plot(history.history['val_loss'])\n",
    "plt.title('model loss')\n",
    "plt.ylabel('loss')\n",
    "plt.xlabel('epoch')\n",
    "plt.legend(['train', 'test'], loc='upper left')\n",
    "plt.show()"
   ]
  },
  {
   "cell_type": "markdown",
   "id": "aafb953b",
   "metadata": {
    "papermill": {
     "duration": 0.008985,
     "end_time": "2025-04-24T02:49:47.920581",
     "exception": false,
     "start_time": "2025-04-24T02:49:47.911596",
     "status": "completed"
    },
    "tags": []
   },
   "source": [
    "# References\n",
    "\n",
    "* https://arxiv.org/abs/2201.03545\n",
    "\n",
    "* https://github.com/facebookresearch/ConvNeXt\n",
    "\n",
    "* https://arxiv.org/abs/1512.03385\n",
    "\n",
    "* https://arxiv.org/abs/2103.14030\n",
    "\n",
    "* https://arxiv.org/abs/1607.06450\n",
    "\n",
    "* https://medium.com/@zurister/depth-wise-convolution-and-depth-wise-separable-convolution-37346565d4ec\n",
    "\n",
    "* https://paperswithcode.com/method/inverted-residual-block\n",
    "\n",
    "* https://github.com/keras-team/keras/blob/master/keras/applications/convnext.py\n",
    "\n",
    "* https://paperswithcode.com/method/gelu\n"
   ]
  },
  {
   "cell_type": "markdown",
   "id": "72d5fd17",
   "metadata": {
    "papermill": {
     "duration": 0.008542,
     "end_time": "2025-04-24T02:49:47.937918",
     "exception": false,
     "start_time": "2025-04-24T02:49:47.929376",
     "status": "completed"
    },
    "tags": []
   },
   "source": [
    "# Citation\n",
    "```bibtex\n",
    "@Article{liu2022convnet,\n",
    "  author  = {Zhuang Liu and Hanzi Mao and Chao-Yuan Wu and Christoph Feichtenhofer and Trevor Darrell and Saining Xie},\n",
    "  title   = {A ConvNet for the 2020s},\n",
    "  journal = {Proceedings of the IEEE/CVF Conference on Computer Vision and Pattern Recognition (CVPR)},\n",
    "  year    = {2022},\n",
    "}\n",
    "```"
   ]
  }
 ],
 "metadata": {
  "kaggle": {
   "accelerator": "gpu",
   "dataSources": [
    {
     "datasetId": 6390656,
     "sourceId": 10321748,
     "sourceType": "datasetVersion"
    },
    {
     "datasetId": 1315070,
     "sourceId": 2190457,
     "sourceType": "datasetVersion"
    }
   ],
   "dockerImageVersionId": 30260,
   "isGpuEnabled": true,
   "isInternetEnabled": false,
   "language": "python",
   "sourceType": "notebook"
  },
  "kernelspec": {
   "display_name": "Python 3",
   "language": "python",
   "name": "python3"
  },
  "language_info": {
   "codemirror_mode": {
    "name": "ipython",
    "version": 3
   },
   "file_extension": ".py",
   "mimetype": "text/x-python",
   "name": "python",
   "nbconvert_exporter": "python",
   "pygments_lexer": "ipython3",
   "version": "3.7.12"
  },
  "papermill": {
   "default_parameters": {},
   "duration": 64.39289,
   "end_time": "2025-04-24T02:49:51.323550",
   "environment_variables": {},
   "exception": null,
   "input_path": "__notebook__.ipynb",
   "output_path": "__notebook__.ipynb",
   "parameters": {},
   "start_time": "2025-04-24T02:48:46.930660",
   "version": "2.3.4"
  }
 },
 "nbformat": 4,
 "nbformat_minor": 5
}
